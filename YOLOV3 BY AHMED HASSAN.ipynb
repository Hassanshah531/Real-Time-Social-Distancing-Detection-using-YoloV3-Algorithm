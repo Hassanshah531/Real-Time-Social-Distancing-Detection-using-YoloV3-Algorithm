{
 "cells": [
  {
   "cell_type": "code",
   "execution_count": 1,
   "id": "republican-accordance",
   "metadata": {},
   "outputs": [],
   "source": [
    "import os,cv2,imutils\n",
    "import numpy as np\n",
    "from scipy.spatial import distance"
   ]
  },
  {
   "cell_type": "code",
   "execution_count": 2,
   "id": "closing-modern",
   "metadata": {},
   "outputs": [],
   "source": [
    "class DETECTION:\n",
    "    def __init__(self):\n",
    "        self.Labels=open(\"coco.names\",'r').read().split(\"\\n\")\n",
    "        self.Network=cv2.dnn.readNetFromDarknet(\"yolov3.cfg\", \"yolov3.weights\")\n",
    "        self.UCOL=[self.Network.getLayerNames()[i[0]-1] for i in self.Network.getUnconnectedOutLayers()]\n",
    "    def Detect_People(self,frame,person_id=0):\n",
    "        H,W=frame.shape[:2]\n",
    "        Blob=cv2.dnn.blobFromImage(frame,1/255.0,(416,416),swapRB=True,crop=False)\n",
    "        self.Network.setInput(Blob)\n",
    "        Output_Layers=self.Network.forward(self.UCOL)\n",
    "        BOXES,CONFIDENCES,CENTROIDS=[],[],[]\n",
    "        for outputs in Output_Layers:\n",
    "            for detected in outputs:\n",
    "                scores = detected[5:]\n",
    "                classID = np.argmax(scores)\n",
    "                confidence = scores[classID]\n",
    "                if classID==person_id and confidence>=0.3:\n",
    "                    BOX=detected[0:4]*np.array([W,H,W,H])\n",
    "                    (X_CENTER,Y_CENTER,Width,Height)=BOX.astype(\"int\")\n",
    "                    X=(X_CENTER-(Width/2))\n",
    "                    Y=(Y_CENTER-(Height/2))\n",
    "                    BOXES.append([int(X),int(Y),int(Width),int(Height)])\n",
    "                    CENTROIDS.append((X_CENTER,Y_CENTER))\n",
    "                    CONFIDENCES.append(float(confidence))\n",
    "        idx=cv2.dnn.NMSBoxes(BOXES, CONFIDENCES, 0.3, 0.3)\n",
    "        result=[]\n",
    "        if len(idx)>0:\n",
    "            for i in idx.flatten():\n",
    "                x,y=BOXES[i][0],BOXES[i][1]\n",
    "                w,h=BOXES[i][2],BOXES[i][3]\n",
    "                r=(CONFIDENCES[i],(x,y,x+w,y+h),CENTROIDS[i])\n",
    "                result.append(r)\n",
    "        return result\n",
    "    def VIDEO_STREAM(self,video):\n",
    "        V=cv2.VideoCapture(video)\n",
    "        print(\"START DETECTING\")\n",
    "        while(True):\n",
    "            _,frame=V.read()\n",
    "            frame=imutils.resize(frame,width=700)\n",
    "            RESULT=self.Detect_People(frame,self.Labels.index(\"person\"))\n",
    "            voilate=set()\n",
    "            try:\n",
    "                if len(RESULT)>=2:\n",
    "                    centroids=[i[2] for i in RESULT]\n",
    "                    dists=distance.cdist(centroids,centroids,metric=\"euclidean\")\n",
    "                    for i in range(0,dists.shape[0]):\n",
    "                        for j in range(i+1,dists.shape[1]):\n",
    "                            if dists[i,j]<100:\n",
    "                                voilate.add(i)\n",
    "                                voilate.add(j)\n",
    "                for i,(prob,box,cent) in enumerate(RESULT):\n",
    "                    x,y,end_x,end_y=box\n",
    "                    x_cent,y_cent=cent\n",
    "                    color=(0,255,0)\n",
    "                    if i in voilate:\n",
    "                         color=(0,0,255)\n",
    "                    cv2.rectangle(frame,(x,y),(end_x,end_y),color,2)\n",
    "\n",
    "                cv2.imshow(\"video\",frame)\n",
    "                if cv2.waitKey(1) == ord(\"q\"):\n",
    "                    break\n",
    "            except:\n",
    "                pass\n",
    "    def DESTROY_WINDOW(self):\n",
    "        cv2.destroyAllWindows() \n",
    "            "
   ]
  },
  {
   "cell_type": "code",
   "execution_count": 3,
   "id": "arctic-settlement",
   "metadata": {},
   "outputs": [],
   "source": [
    "RUN=DETECTION()"
   ]
  },
  {
   "cell_type": "code",
   "execution_count": null,
   "id": "broadband-response",
   "metadata": {},
   "outputs": [
    {
     "name": "stdout",
     "output_type": "stream",
     "text": [
      "START DETECTING\n"
     ]
    }
   ],
   "source": [
    "RUN.VIDEO_STREAM(\"pedestrians.mp4\")\n",
    "RUN.DESTROY_WINDOW()"
   ]
  },
  {
   "cell_type": "code",
   "execution_count": null,
   "id": "trying-august",
   "metadata": {},
   "outputs": [],
   "source": [
    "# RUN.VIDEO_STREAM(\"https://192.168.43.1:8080/video\")"
   ]
  },
  {
   "cell_type": "code",
   "execution_count": null,
   "id": "right-discharge",
   "metadata": {},
   "outputs": [],
   "source": []
  }
 ],
 "metadata": {
  "kernelspec": {
   "display_name": "Python 3",
   "language": "python",
   "name": "python3"
  },
  "language_info": {
   "codemirror_mode": {
    "name": "ipython",
    "version": 3
   },
   "file_extension": ".py",
   "mimetype": "text/x-python",
   "name": "python",
   "nbconvert_exporter": "python",
   "pygments_lexer": "ipython3",
   "version": "3.7.0"
  }
 },
 "nbformat": 4,
 "nbformat_minor": 5
}
